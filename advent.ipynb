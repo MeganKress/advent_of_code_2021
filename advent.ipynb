{
 "cells": [
  {
   "cell_type": "markdown",
   "metadata": {},
   "source": [
    "# Advent of Code"
   ]
  },
  {
   "cell_type": "markdown",
   "metadata": {},
   "source": [
    "## Day 3\n",
    "\n",
    "Use the binary numbers in your diagnostic report to calculate the gamma rate and epsilon rate, then multiply them together. What is the power consumption of the submarine? (Be sure to represent your answer in decimal, not binary.)"
   ]
  },
  {
   "cell_type": "code",
   "execution_count": 34,
   "metadata": {},
   "outputs": [
    {
     "name": "stdout",
     "output_type": "stream",
     "text": [
      "1000\n",
      "[500, 496, 510, 513, 517, 485, 501, 480, 477, 515, 498, 504]\n",
      "3320834\n"
     ]
    }
   ],
   "source": [
    "import csv\n",
    "\n",
    "array = []  # initialization of count array\n",
    "\n",
    "# Read in digit counts for each place\n",
    "with open('input.txt', newline='\\n') as csvfile:\n",
    "    binaryreader = csv.reader(csvfile, delimiter=' ', quotechar='|')\n",
    "    for i in range(len(next(binaryreader)[0])):\n",
    "        array.append(0)\n",
    "    for row in binaryreader:\n",
    "        index = 0\n",
    "        row_string = row[0]\n",
    "        for digit_index in range(0, len(row_string)):\n",
    "            array[index] = array[index] + int(row_string[digit_index])\n",
    "            index = index + 1\n",
    "\n",
    "# Get row count\n",
    "with open('input.txt', newline='\\n') as csvfile:\n",
    "    row_count = sum(1 for row in csvfile)\n",
    "\n",
    "gamma_rate = 0\n",
    "epsilon_rate = 0\n",
    "\n",
    "# Iterate through count array\n",
    "for i in range(len(array)):\n",
    "    # Check if more than half the rows are 1s\n",
    "    if array[i] >= row_count/2:\n",
    "        gamma_rate = gamma_rate + 2**(len(array) - i - 1)\n",
    "    # Else if fewer than half the rows are 1s\n",
    "    else:\n",
    "        epsilon_rate = epsilon_rate + 2**(len(array) - i - 1)\n",
    "\n",
    "print(gamma_rate * epsilon_rate)\n",
    "\n"
   ]
  },
  {
   "cell_type": "code",
   "execution_count": null,
   "metadata": {},
   "outputs": [],
   "source": []
  },
  {
   "cell_type": "code",
   "execution_count": null,
   "metadata": {},
   "outputs": [],
   "source": []
  },
  {
   "cell_type": "code",
   "execution_count": null,
   "metadata": {},
   "outputs": [],
   "source": []
  },
  {
   "cell_type": "code",
   "execution_count": null,
   "metadata": {},
   "outputs": [],
   "source": []
  },
  {
   "cell_type": "code",
   "execution_count": null,
   "metadata": {},
   "outputs": [],
   "source": []
  },
  {
   "cell_type": "markdown",
   "metadata": {},
   "source": []
  }
 ],
 "metadata": {
  "interpreter": {
   "hash": "aee8b7b246df8f9039afb4144a1f6fd8d2ca17a180786b69acc140d282b71a49"
  },
  "kernelspec": {
   "display_name": "Python 3.9.7 64-bit",
   "language": "python",
   "name": "python3"
  },
  "language_info": {
   "codemirror_mode": {
    "name": "ipython",
    "version": 3
   },
   "file_extension": ".py",
   "mimetype": "text/x-python",
   "name": "python",
   "nbconvert_exporter": "python",
   "pygments_lexer": "ipython3",
   "version": "3.9.7"
  },
  "orig_nbformat": 4
 },
 "nbformat": 4,
 "nbformat_minor": 2
}
